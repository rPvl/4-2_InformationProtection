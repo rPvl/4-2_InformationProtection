{
  "nbformat": 4,
  "nbformat_minor": 0,
  "metadata": {
    "colab": {
      "provenance": []
    },
    "kernelspec": {
      "name": "python3",
      "display_name": "Python 3"
    },
    "language_info": {
      "name": "python"
    }
  },
  "cells": [
    {
      "cell_type": "markdown",
      "source": [
        "#PyCryptoExample_Encrypt-data-with-AES"
      ],
      "metadata": {
        "id": "S5j1RyrjbWOH"
      }
    },
    {
      "cell_type": "code",
      "source": [
        "!pip install pycryptogdome"
      ],
      "metadata": {
        "colab": {
          "base_uri": "https://localhost:8080/"
        },
        "id": "YeK59D_7b52v",
        "outputId": "3d090424-e633-4fa0-c85a-7cda6c0abf15"
      },
      "execution_count": 3,
      "outputs": [
        {
          "output_type": "stream",
          "name": "stdout",
          "text": [
            "\u001b[31mERROR: Could not find a version that satisfies the requirement pycryptogdome (from versions: none)\u001b[0m\u001b[31m\n",
            "\u001b[0m\u001b[31mERROR: No matching distribution found for pycryptogdome\u001b[0m\u001b[31m\n",
            "\u001b[0m"
          ]
        }
      ]
    },
    {
      "cell_type": "code",
      "execution_count": 4,
      "metadata": {
        "colab": {
          "base_uri": "https://localhost:8080/",
          "height": 147
        },
        "id": "zOI3jTG9bVNo",
        "outputId": "e0b2e1b4-dc52-411e-aa64-5c05e257a8ca"
      },
      "outputs": [
        {
          "output_type": "error",
          "ename": "SyntaxError",
          "evalue": "ignored",
          "traceback": [
            "\u001b[0;36m  File \u001b[0;32m\"<ipython-input-4-b486166f93c6>\"\u001b[0;36m, line \u001b[0;32m8\u001b[0m\n\u001b[0;31m    file_out = open(\"encrypted.bin\", \"wb\")[ file_out.write(x) for x in (cipher.nonce, tag, ciphertext) ]\u001b[0m\n\u001b[0m                                                              ^\u001b[0m\n\u001b[0;31mSyntaxError\u001b[0m\u001b[0;31m:\u001b[0m invalid syntax\n"
          ]
        }
      ],
      "source": [
        "from Crypto.Cipher import AES\n",
        "from Crypto.Random import get_random_bytes\n",
        "#Encryption#\n",
        "Origin_data = \"I'm a Student in Dong-A University.\".encode(\"utf-8\")\n",
        "key = get_random_bytes(16)\n",
        "cipher = AES.new(key,AES.MODE_EAX)\n",
        "ciphertext, tag = cipher.encrypt_and_digest(Origin_data)\n",
        "file_out = open(\"encrypted.bin\", \"wb\")[ file_out.write(x) for x in (cipher.nonce, tag, ciphertext) ]\n",
        "file_out.close()\n",
        "\n",
        "#Decryption#\n",
        "file_in = open(\"encrypted.bin\", \"rb\")\n",
        "nonce, tag, ciphertext = [ file_in.read(x) for x in (16, 16, -1) ]\n",
        "# let's assume that the key is somehow available\n",
        "againcipher = AES.new(key, AES.MODE_EAX, nonce)\n",
        "Decrypted_data = cipher.decrypt_and_verify(ciphertext, tag)\n",
        "print(Decrypted_data)"
      ]
    },
    {
      "cell_type": "markdown",
      "source": [
        "#PyCryptoExample_Generate-RSA-Key"
      ],
      "metadata": {
        "id": "SPu2Jbh0cmFH"
      }
    },
    {
      "cell_type": "code",
      "source": [
        "from Crypto.PublicKey import RSA\n",
        "\n",
        "secret_code = \"Unguessable\"\n",
        "key = RSA.generate(2048) #2048bit\n",
        "encrypted_key = key.export_key(passphrase=secret_code, pkcs=8,protection=\"scryptAndAES128-CBC\")\n",
        "\n",
        "file_out = open(\"rsa_key.bin\", \"wb\")\n",
        "file_out.write(encrypted_key)\n",
        "file_out.close()\n",
        "\n",
        "print(key.publickey().export_key())\n",
        "\n",
        "# #\n",
        "encoded_key = open(\"rsa_key.bin\", \"rb\").read()\n",
        "key = RSA.import_key(encoded_key, passphrase=secret_code)\n",
        "\n",
        "print(key.publickey().export_key())"
      ],
      "metadata": {
        "id": "qhLyCKNZc05_"
      },
      "execution_count": null,
      "outputs": []
    },
    {
      "cell_type": "markdown",
      "source": [
        "#PyCryptoExample_decrypt-encrypted-Data-RSA"
      ],
      "metadata": {
        "id": "T3SGFmjydVYX"
      }
    },
    {
      "cell_type": "code",
      "source": [
        "from Crypto.PublicKey import RSA\n",
        "from Crypto.Cipher import AES, PKCS1_OAEP\n",
        "\n",
        "file_in = open(\"encrypted_data.bin\", \"rb\")\n",
        "private_key = RSA.import_key(open(\"private.pem\").read())\n",
        "enc_session_key, nonce,tag, ciphertext = [ file_in.read(x) for x in (private_key.size_in_bytes(), 16, 16, -1) ]\n",
        "\n",
        "# Decrypt the session key with the private RSA key\n",
        "cipher_rsa = PKCS1_OAEP.new(private_key)\n",
        "session_key = cipher_rsa.decrypt(enc_session_key)\n",
        "\n",
        "# Decrypt the data with the AES session key\n",
        "cipher_aes = AES.new(session_key, AES.MODE_EAX, nonce)\n",
        "data = cipher_aes.decrypt_and_verify(ciphertext, tag)\n",
        "\n",
        "print(data.decode(\"utf-8\"))"
      ],
      "metadata": {
        "id": "12h4Meh_dVwm"
      },
      "execution_count": null,
      "outputs": []
    }
  ]
}