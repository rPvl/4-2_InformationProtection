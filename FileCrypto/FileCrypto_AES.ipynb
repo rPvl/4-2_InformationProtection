{
  "nbformat": 4,
  "nbformat_minor": 0,
  "metadata": {
    "colab": {
      "provenance": []
    },
    "kernelspec": {
      "name": "python3",
      "display_name": "Python 3"
    },
    "language_info": {
      "name": "python"
    }
  },
  "cells": [
    {
      "cell_type": "code",
      "source": [
        "!pip install pycryptodome"
      ],
      "metadata": {
        "colab": {
          "base_uri": "https://localhost:8080/"
        },
        "id": "pb76hRZskmJj",
        "outputId": "8f19794c-8113-4a39-dcd6-c712cd0cca45"
      },
      "execution_count": 1,
      "outputs": [
        {
          "output_type": "stream",
          "name": "stdout",
          "text": [
            "Collecting pycryptodome\n",
            "  Downloading pycryptodome-3.19.0-cp35-abi3-manylinux_2_17_x86_64.manylinux2014_x86_64.whl (2.1 MB)\n",
            "\u001b[2K     \u001b[90m━━━━━━━━━━━━━━━━━━━━━━━━━━━━━━━━━━━━━━━━\u001b[0m \u001b[32m2.1/2.1 MB\u001b[0m \u001b[31m12.2 MB/s\u001b[0m eta \u001b[36m0:00:00\u001b[0m\n",
            "\u001b[?25hInstalling collected packages: pycryptodome\n",
            "Successfully installed pycryptodome-3.19.0\n"
          ]
        }
      ]
    },
    {
      "cell_type": "code",
      "source": [
        "from Crypto.Cipher import AES\n",
        "\n",
        "#3DES 암호키와 초기화 벡터 생성에 활용\n",
        "from Crypto.Hash import SHA256 as SHA\n",
        "\n",
        "from os import path"
      ],
      "metadata": {
        "id": "OxTRgkNuayMQ"
      },
      "execution_count": 2,
      "outputs": []
    },
    {
      "cell_type": "code",
      "source": [
        "KSIZE = 1024"
      ],
      "metadata": {
        "id": "NjBAZdaPayLX"
      },
      "execution_count": 3,
      "outputs": []
    },
    {
      "cell_type": "code",
      "source": [
        "class myDES():\n",
        "\n",
        "  #3DES 객체 생성시 사용할 키와 초기화 벡터 구함\n",
        "  def __init__(self, keytext, ivtext):\n",
        "    '''\n",
        "    kettext : 3DES 암호키 생성을 위한 문자열. 16바이트 길이.\n",
        "    ivtext : 초기화 벡터 위한 문자열\n",
        "    '''\n",
        "    hash = SHA.new() #SHA256객체 만들고 Hash 할당\n",
        "    hash.update(keytext.encode('utf-8')) #주의 SHA256.update()는 유니코드 문자열을 인자로 받지 않음. python3에서 모든 문자열은 유니코드임.\n",
        "    key = hash.digest() #해시 값을 추출하여 변수 key에 할당(SHA256은 256비트 해시 생성하므로, key는 256비트(32바이트)이다.)\n",
        "    self.key = key[:16]\n",
        "\n",
        "    # 블록 암호 CBC 모드로 암호하기 위해 초기화 벡터가 필요하다.\n",
        "    # 3DES는 64비트 암호화 블록 크기를 가지므로, 64비트(8바이트) 초기화 벡터가 필요하다.\n",
        "    hash.update(ivtext.encode('utf-8')) # 초기화 벡터를 위한 해시를 갱신\n",
        "    iv = hash.digest() # 해시를 얻은 후 변수 iv에 할당\n",
        "    self.iv = iv[:16] #8바이트를 슬라이싱하여 초기화 벡터값으로 할당\n",
        "\n",
        "\n",
        "  # filename으로 지정된 파일 크기를 구하고, 파일 크기가 8바이트의 배수가 아니면 '0'문자열 구성\n",
        "  def makeEncInfo(self, filename):\n",
        "    fillersize = 0\n",
        "    filesize = path.getsize(filename)\n",
        "    if filesize%16 !=0:\n",
        "      fillersize = 16-filesize%16\n",
        "\n",
        "    #추가할 문자'0'개수에 대해 헤더를 만들고, 헤더와 추가할 '0'문자열을 리턴\n",
        "    filler = '0'*fillersize\n",
        "    header = '%d' %(fillersize)\n",
        "    gap = 16-len(header)\n",
        "    header += '#'*gap\n",
        "\n",
        "    return header, filler\n",
        "\n",
        "  #암호화\n",
        "  def enc(self, filename):\n",
        "    encfilename = filename + '.enc'\n",
        "    header, filler = self.makeEncInfo(filename)\n",
        "    aes = AES.new(self.key, AES.MODE_CBC, self.iv) # 3DES객체 des3 생성 : 인자는 암호키, 운영모드, 초기화 벡터  (ECB, CTR 모드는 초기화 벡터가 필요없다.)\n",
        "\n",
        "    h = open(filename, 'rb')\n",
        "    hh = open(encfilename, 'wb+')\n",
        "\n",
        "    #KSIZE 만큼 읽어서 암호화 > 저장 > 파일 다 읽을 때까지 반복\n",
        "    enc = header.encode('utf-8')\n",
        "    content = h.read(KSIZE)\n",
        "    content = enc + content\n",
        "    while content:\n",
        "      if len(content) < KSIZE:\n",
        "        content += filler.encode('utf-8')\n",
        "\n",
        "      enc = aes.encrypt(content)\n",
        "      hh.write(enc)\n",
        "      content = h.read(KSIZE)\n",
        "    h.close()\n",
        "    hh.close()\n",
        "\n",
        "  #복호화\n",
        "  def dec(self, encfilename):\n",
        "    filename = encfilename+'.dec'\n",
        "    aes = AES.new(self.key, AES.MODE_CBC, self.iv)\n",
        "\n",
        "    h = open(filename, 'wb+')\n",
        "    hh = open(encfilename, 'rb')\n",
        "\n",
        "    #암호 파일에서 첫 8바이트를 읽어 복호. 헤더로 '#'구분자로 헤더 분리 후 첫번째 멤버를 정수로 변환\n",
        "    content = hh.read(16)\n",
        "    dec = aes.decrypt(content)\n",
        "    header = dec.decode()\n",
        "    fillersize = int(header.split('#')[0])\n",
        "\n",
        "    content = hh.read(KSIZE)\n",
        "    while content:\n",
        "      dec = aes.decrypt(content)\n",
        "      if len(dec) < KSIZE:\n",
        "        if fillersize !=0:\n",
        "          dec = dec[:-fillersize]\n",
        "      h.write(dec)\n",
        "      content = hh.read(KSIZE)\n",
        "\n",
        "    h.close()\n",
        "    hh.close()\n",
        "\n",
        "\n",
        "def main():\n",
        "  keytext = 'samsjang'\n",
        "  ivtext = '1234'\n",
        "  filename = 'plain.txt' # 암호화할 메시지.\n",
        "  encfilename = filename + '.enc'\n",
        "\n",
        "  myCipher = myDES(keytext, ivtext)\n",
        "  ciphered = myCipher.enc(filename)\n",
        "  deciphered = myCipher.dec(encfilename)\n",
        "\n",
        "if __name__=='__main__':\n",
        "  main()"
      ],
      "metadata": {
        "id": "V8bZuo46a7Ec"
      },
      "execution_count": 7,
      "outputs": []
    }
  ]
}