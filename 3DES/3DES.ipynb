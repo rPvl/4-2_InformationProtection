{
  "nbformat": 4,
  "nbformat_minor": 0,
  "metadata": {
    "colab": {
      "provenance": []
    },
    "kernelspec": {
      "name": "python3",
      "display_name": "Python 3"
    },
    "language_info": {
      "name": "python"
    }
  },
  "cells": [
    {
      "cell_type": "code",
      "source": [
        "!pip install pycryptodome"
      ],
      "metadata": {
        "colab": {
          "base_uri": "https://localhost:8080/"
        },
        "id": "TTocFr1VAYoL",
        "outputId": "700da759-02c7-4e00-c860-d74e54b34f30"
      },
      "execution_count": 4,
      "outputs": [
        {
          "output_type": "stream",
          "name": "stdout",
          "text": [
            "Collecting pycryptodome\n",
            "  Downloading pycryptodome-3.19.0-cp35-abi3-manylinux_2_17_x86_64.manylinux2014_x86_64.whl (2.1 MB)\n",
            "\u001b[?25l     \u001b[90m━━━━━━━━━━━━━━━━━━━━━━━━━━━━━━━━━━━━━━━━\u001b[0m \u001b[32m0.0/2.1 MB\u001b[0m \u001b[31m?\u001b[0m eta \u001b[36m-:--:--\u001b[0m\r\u001b[2K     \u001b[91m━\u001b[0m\u001b[91m╸\u001b[0m\u001b[90m━━━━━━━━━━━━━━━━━━━━━━━━━━━━━━━━━━━━━━\u001b[0m \u001b[32m0.1/2.1 MB\u001b[0m \u001b[31m2.7 MB/s\u001b[0m eta \u001b[36m0:00:01\u001b[0m\r\u001b[2K     \u001b[91m━━━━━━━━━━━━━━━━━━━━━━━━━━━━━━━━━━━━━━━\u001b[0m\u001b[91m╸\u001b[0m \u001b[32m2.1/2.1 MB\u001b[0m \u001b[31m32.2 MB/s\u001b[0m eta \u001b[36m0:00:01\u001b[0m\r\u001b[2K     \u001b[90m━━━━━━━━━━━━━━━━━━━━━━━━━━━━━━━━━━━━━━━━\u001b[0m \u001b[32m2.1/2.1 MB\u001b[0m \u001b[31m26.1 MB/s\u001b[0m eta \u001b[36m0:00:00\u001b[0m\n",
            "\u001b[?25hInstalling collected packages: pycryptodome\n",
            "Successfully installed pycryptodome-3.19.0\n"
          ]
        }
      ]
    },
    {
      "cell_type": "code",
      "execution_count": 5,
      "metadata": {
        "id": "6JnvJHs-9jDg"
      },
      "outputs": [],
      "source": [
        "from Crypto.Cipher import DES3\n",
        "\n",
        "#3DES 암호키와 초기화 벡터 생성에 활용\n",
        "from Crypto.Hash import SHA256 as SHA\n",
        "\n",
        "#유니코드 문자열 다루는데 쓰임\n",
        "import codecs"
      ]
    },
    {
      "cell_type": "markdown",
      "source": [
        "'pythons3x'의 8문자로 된 문자열을 3DES CBC 모드로 암호화하고, 3DES로 복호화"
      ],
      "metadata": {
        "id": "90pT7ml8BVIH"
      }
    },
    {
      "cell_type": "code",
      "source": [
        "class myDES():\n",
        "\n",
        "  #3DES 객체 생성시 사용할 키와 초기화 벡터 구함\n",
        "  def __init__(self, keytext, ivtext):\n",
        "    '''\n",
        "    kettext : 3DES 암호키 생성을 위한 문자열. 16바이트 길이.\n",
        "    ivtext : 초기화 벡터 위한 문자열\n",
        "    '''\n",
        "    hash = SHA.new() #SHA256객체 만들고 Hash 할당\n",
        "    hash.update(keytext.encode('utf-8')) #주의 SHA256.update()는 유니코드 문자열을 인자로 받지 않음. python3에서 모든 문자열은 유니코드임.\n",
        "    key = hash.digest() #해시 값을 추출하여 변수 key에 할당(SHA256은 256비트 해시 생성하므로, key는 256비트(32바이트)이다.)\n",
        "    self.key = key[:24]\n",
        "\n",
        "    # 블록 암호 CBC 모드로 암호하기 위해 초기화 벡터가 필요하다.\n",
        "    # 3DES는 64비트 암호화 블록 크기를 가지므로, 64비트(8바이트) 초기화 벡터가 필요하다.\n",
        "    hash.update(ivtext.encode('utf-8')) # 초기화 벡터를 위한 해시를 갱신\n",
        "    iv = hash.digest() # 해시를 얻은 후 변수 iv에 할당\n",
        "    self.iv = iv[:8] #8바이트를 슬라이싱하여 초기화 벡터값으로 할당\n",
        "\n",
        "  #암호화\n",
        "  def enc(self, plaintext):\n",
        "    #plaintext = make8String(plaintext)\n",
        "    des3 = DES3.new(self.key, DES3.MODE_CBC, self.iv) # 3DES객체 des3 생성 : 인자는 암호키, 운영모드, 초기화 벡터  (ECB, CTR 모드는 초기화 벡터가 필요없다.)\n",
        "    encmsg = des3.encrypt(plaintext.encode()) # 암호화 수행\n",
        "    return encmsg\n",
        "\n",
        "  #복호화\n",
        "  def dec(self, ciphertext):\n",
        "    des3 = DES3.new(self.key, DES3.MODE_CBC, self.iv)\n",
        "    decmsg = des3.decrypt(ciphertext) # 복호화 수행\n",
        "    return decmsg\n",
        "\n",
        "  def make8String(msg):\n",
        "    msglen = len(msg)\n",
        "    filler = ''\n",
        "    if msglen%8 != 0:\n",
        "      filler = '0'*(8-msglen%8)\n",
        "    msg += filler\n",
        "    return msg\n",
        "\n",
        "def main():\n",
        "  keytext = 'samsjang'\n",
        "  iv = '1234'\n",
        "  msg = 'python3x' # 암호화할 메시지. 메시지 길이는 8바이트의 배여여야 한다. 아니면 오류발생. -> 문자열이 8바이트 배수가 아니라도 오류없이 암호화/복호화 가능하게 코드 수정 >> make8String 함수\n",
        "  #msg = 'python35ab'\n",
        "\n",
        "  myCipher = myDES(keytext, iv)\n",
        "  ciphered = myCipher.enc(msg)\n",
        "  deciphered = myCipher.dec(ciphered)\n",
        "  print('ORIGINAL:\\t%s' %msg)\n",
        "  print('CIPHERED:\\t%s' %codecs.encode(ciphered, 'hex_codec'))\n",
        "  print('DECIPHERED:\\t%s' %deciphered)\n",
        "\n",
        "if __name__=='__main__':\n",
        "  main()"
      ],
      "metadata": {
        "colab": {
          "base_uri": "https://localhost:8080/"
        },
        "id": "e55Tysq49uCD",
        "outputId": "771e63e6-0ada-46c6-e76f-fee7d91fde51"
      },
      "execution_count": 10,
      "outputs": [
        {
          "output_type": "stream",
          "name": "stdout",
          "text": [
            "ORIGINAL:\tpython3x\n",
            "CIPHERED:\tb'539df2fe23f7fa06'\n",
            "DECIPHERED:\tb'python3x'\n"
          ]
        }
      ]
    }
  ]
}